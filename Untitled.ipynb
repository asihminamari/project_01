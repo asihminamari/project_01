{
  "cells": [
    {
      "cell_type": "markdown",
      "metadata": {
        "id": "view-in-github",
        "colab_type": "text"
      },
      "source": [
        "<a href=\"https://colab.research.google.com/github/asihminamari/project_01/blob/main/Untitled.ipynb\" target=\"_parent\"><img src=\"https://colab.research.google.com/assets/colab-badge.svg\" alt=\"Open In Colab\"/></a>"
      ]
    },
    {
      "cell_type": "code",
      "execution_count": null,
      "metadata": {
        "id": "FSUOXn5kznCt"
      },
      "outputs": [],
      "source": []
    },
    {
      "cell_type": "code",
      "execution_count": null,
      "metadata": {
        "colab": {
          "base_uri": "https://localhost:8080/"
        },
        "id": "t-xUZnkKmg99",
        "outputId": "6c637c51-62c8-4832-a121-e60c3734f66f"
      },
      "outputs": [
        {
          "output_type": "stream",
          "name": "stdout",
          "text": [
            "[['Easy', 4.15], ['Waste a Moment', 3.03], ['New Salvation', 4.02]]\n"
          ]
        }
      ],
      "source": [
        "from os import times_result\n",
        "import random #вызвать библиотеку рандом\n",
        "my_favorite_songs = [\n",
        "    ['Waste a Moment', 3.03],\n",
        "    ['New Salvation', 4.02],\n",
        "    ['Staying\\' Alive', 3.40],\n",
        "    ['Out of Touch', 3.03],\n",
        "    ['A Sorta Fairytale', 5.28],\n",
        "    ['Easy', 4.15],\n",
        "    ['Beautiful Day', 4.04],\n",
        "    ['Nowhere to Run', 2.58],\n",
        "    ['In This World', 4.02]\n",
        "]\n",
        "\n",
        "my_favorite_songs = (random.sample(my_favorite_songs,3))\n",
        "#print(\"три песни\") \n",
        "print (my_favorite_songs)\n",
        "#my_favorite_songs = (random.sample(my_favorite_songs,3))\n",
        "\n",
        "#for title, time in my_favorite_songs:  \n",
        " #x = time * 60\n",
        " #y =+x\n",
        " #print(title,time)\n",
        "#print (y/60)\n",
        " \n",
        "\n",
        "  "
      ]
    },
    {
      "cell_type": "code",
      "execution_count": null,
      "metadata": {
        "colab": {
          "base_uri": "https://localhost:8080/",
          "height": 257
        },
        "outputId": "3601f826-6917-4ca0-8798-b91756d02f8a",
        "id": "8VFnSrDy6_Nt"
      },
      "outputs": [
        {
          "output_type": "stream",
          "name": "stdout",
          "text": [
            "три песни\n"
          ]
        },
        {
          "output_type": "error",
          "ename": "NameError",
          "evalue": "ignored",
          "traceback": [
            "\u001b[0;31m---------------------------------------------------------------------------\u001b[0m",
            "\u001b[0;31mNameError\u001b[0m                                 Traceback (most recent call last)",
            "\u001b[0;32m<ipython-input-3-4a6cb9f1acf7>\u001b[0m in \u001b[0;36m<cell line: 19>\u001b[0;34m()\u001b[0m\n\u001b[1;32m     18\u001b[0m \u001b[0;34m\u001b[0m\u001b[0m\n\u001b[1;32m     19\u001b[0m \u001b[0;32mfor\u001b[0m \u001b[0mtitle\u001b[0m\u001b[0;34m,\u001b[0m \u001b[0mtime\u001b[0m \u001b[0;32min\u001b[0m \u001b[0mmy_favorite_songs\u001b[0m\u001b[0;34m:\u001b[0m\u001b[0;34m\u001b[0m\u001b[0;34m\u001b[0m\u001b[0m\n\u001b[0;32m---> 20\u001b[0;31m  \u001b[0mx\u001b[0m \u001b[0;34m=\u001b[0m \u001b[0mx\u001b[0m \u001b[0;34m+\u001b[0m \u001b[0mtime\u001b[0m\u001b[0;34m\u001b[0m\u001b[0;34m\u001b[0m\u001b[0m\n\u001b[0m\u001b[1;32m     21\u001b[0m \u001b[0;34m\u001b[0m\u001b[0m\n\u001b[1;32m     22\u001b[0m  \u001b[0mprint\u001b[0m\u001b[0;34m(\u001b[0m\u001b[0mtitle\u001b[0m\u001b[0;34m,\u001b[0m\u001b[0mtime\u001b[0m\u001b[0;34m)\u001b[0m\u001b[0;34m\u001b[0m\u001b[0;34m\u001b[0m\u001b[0m\n",
            "\u001b[0;31mNameError\u001b[0m: name 'x' is not defined"
          ]
        }
      ],
      "source": [
        "from os import times_result\n",
        "import random #вызвать библиотеку рандом\n",
        "my_favorite_songs = [\n",
        "    ['Waste a Moment', 3.03],\n",
        "    ['New Salvation', 4.02],\n",
        "    ['Staying\\' Alive', 3.40],\n",
        "    ['Out of Touch', 3.03],\n",
        "    ['A Sorta Fairytale', 5.28],\n",
        "    ['Easy', 4.15],\n",
        "    ['Beautiful Day', 4.04],\n",
        "    ['Nowhere to Run', 2.58],\n",
        "    ['In This World', 4.02]\n",
        "]\n",
        "\n",
        "#my_favorite_songs = (random.sample(my_favorite_songs,3))\n",
        "print(\"три песни\")\n",
        "my_favorite_songs = (random.sample(my_favorite_songs,3))\n",
        "\n",
        "for title, time in my_favorite_songs:  \n",
        " x = x + time\n",
        "\n",
        " print(title,time)\n",
        "print (x)\n",
        " \n",
        "\n",
        "  "
      ]
    },
    {
      "cell_type": "code",
      "source": [
        "mes = [['Январь', 31], ['Февраль', 28], ['Март', 31], [\"Апрель\", 30], [\"Май\", 31], [\"Июнь\", 30], [\"Июль\", 31], [\"Август\", 31], [\"Сентябрь\", 30], [\"Октябрь\", 31], ['Ноябрь', 30], ['Декабрь',31]]\n",
        "m = int(input(\"Введите номер месяца:\"))\n",
        "\n",
        "if int(m) <= 0 or int(m) > 12:\n",
        "\n",
        " print(\"Вы ввели неверный месяц\")\n",
        " m = int(input(\"Введите номер месяца:\"))\n",
        " a = (mes[m-1][0])\n",
        " b = (mes[m-1][1])\n",
        "\n",
        " print (\"Вы ввели\",a , b,\"дней\")\n",
        " \n",
        "else:\n",
        "#try: \n",
        " a, b = 0, 0 \n",
        " a = (mes[m-1][0])\n",
        " b = (mes[m-1][1])\n",
        "\n",
        " print (\"Вы ввели\",a , b,\"дней\")\n",
        "\n",
        "#except IndexError:\n",
        "  #print(\"Введен неверный месяц\")\n"
      ],
      "metadata": {
        "colab": {
          "base_uri": "https://localhost:8080/"
        },
        "id": "M_zJoa5NH8dt",
        "outputId": "6092cbc6-5353-4184-a15a-a11018e2dd60"
      },
      "execution_count": 2,
      "outputs": [
        {
          "output_type": "stream",
          "name": "stdout",
          "text": [
            "Введите номер месяца:13\n",
            "Вы ввели неверный месяц\n",
            "Введите номер месяца:4\n",
            "Вы ввели Апрель 30 дней\n"
          ]
        }
      ]
    }
  ],
  "metadata": {
    "colab": {
      "provenance": [],
      "authorship_tag": "ABX9TyNGiH469J0iyeU4iQqan7/8",
      "include_colab_link": true
    },
    "kernelspec": {
      "display_name": "Python 3",
      "name": "python3"
    },
    "language_info": {
      "name": "python"
    }
  },
  "nbformat": 4,
  "nbformat_minor": 0
}