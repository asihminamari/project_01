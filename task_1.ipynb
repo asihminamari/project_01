{
  "nbformat": 4,
  "nbformat_minor": 0,
  "metadata": {
    "colab": {
      "provenance": [],
      "authorship_tag": "ABX9TyN4xhoY6XCCvgmhxb6/xTxP",
      "include_colab_link": true
    },
    "kernelspec": {
      "name": "python3",
      "display_name": "Python 3"
    },
    "language_info": {
      "name": "python"
    }
  },
  "cells": [
    {
      "cell_type": "markdown",
      "metadata": {
        "id": "view-in-github",
        "colab_type": "text"
      },
      "source": [
        "<a href=\"https://colab.research.google.com/github/asihminamari/project_01/blob/main/task_1.ipynb\" target=\"_parent\"><img src=\"https://colab.research.google.com/assets/colab-badge.svg\" alt=\"Open In Colab\"/></a>"
      ]
    },
    {
      "cell_type": "code",
      "execution_count": 2,
      "metadata": {
        "colab": {
          "base_uri": "https://localhost:8080/"
        },
        "id": "PQ0dbGQRU6xs",
        "outputId": "719ec7f2-7b86-4074-9e5c-cc1596b02b09"
      },
      "outputs": [
        {
          "output_type": "stream",
          "name": "stdout",
          "text": [
            "Waste a Moment, Staying' Alive, A Sorta Fairytale, Start Me Up, New Salvation\n",
            "Waste a Moment\n",
            "New Salvation\n",
            "Staying\n",
            "Start Me Up\n"
          ]
        }
      ],
      "source": [
        "my_favorite_songs = 'Waste a Moment, Staying\\' Alive, A Sorta Fairytale, Start Me Up, New Salvation'\n"
      ]
    },
    {
      "cell_type": "code",
      "source": [
        "my_favorite_songs = 'Waste a Moment, Staying\\' Alive, A Sorta Fairytale, Start Me Up, New Salvation'\n",
        "print(my_favorite_songs[0:14],\n",
        "      my_favorite_songs [16:23],\n",
        "      my_favorite_songs[25:31], \n",
        "      my_favorite_songs[-13:],\n",
        "      my_favorite_songs[30:50],\n",
        "      my_favorite_songs [51:62])\n",
        "      \n"
      ],
      "metadata": {
        "colab": {
          "base_uri": "https://localhost:8080/"
        },
        "id": "Q0j0Q35eHtrR",
        "outputId": "037dcda4-8349-4965-b973-12e639f09f12"
      },
      "execution_count": 3,
      "outputs": [
        {
          "output_type": "stream",
          "name": "stdout",
          "text": [
            "Waste a Moment Staying Alive, New Salvation , A Sorta Fairytale, Start Me Up\n"
          ]
        }
      ]
    }
  ]
}